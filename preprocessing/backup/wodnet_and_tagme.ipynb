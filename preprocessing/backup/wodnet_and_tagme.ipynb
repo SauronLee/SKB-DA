{
 "cells": [
  {
   "cell_type": "code",
   "execution_count": 47,
   "id": "7f9a0631",
   "metadata": {},
   "outputs": [],
   "source": [
    "from nltk.corpus import wordnet as wn\n",
    "import numpy as np"
   ]
  },
  {
   "cell_type": "code",
   "execution_count": 4,
   "id": "979953de",
   "metadata": {},
   "outputs": [
    {
     "data": {
      "text/plain": [
       "'fruit with red or yellow or green skin and sweet to tart crisp whitish flesh'"
      ]
     },
     "execution_count": 4,
     "metadata": {},
     "output_type": "execute_result"
    }
   ],
   "source": [
    "wn.synset('apple.n.01').definition()"
   ]
  },
  {
   "cell_type": "code",
   "execution_count": 38,
   "id": "08efec8d",
   "metadata": {},
   "outputs": [],
   "source": [
    "wn_pos_list = [wn.ADJ,wn.VERB,wn.NOUN,wn.ADV]\n",
    "wn_words = set(i for i in wn.words())"
   ]
  },
  {
   "cell_type": "code",
   "execution_count": 43,
   "id": "1a1e76b9",
   "metadata": {},
   "outputs": [],
   "source": [
    "wordnet_tagme_sememe_dict = {}\n",
    "for word in wn_words:\n",
    "    for pos in wn_pos_list:\n",
    "        for i,synset in enumerate(wn.synsets(word, pos=pos)):\n",
    "            title = word+\".\"+pos+\".\"+str(i)\n",
    "            definition = synset.definition()\n",
    "            if title not in wordnet_tagme_sememe_dict.keys():\n",
    "                wordnet_tagme_sememe_dict[title] = []\n",
    "            wordnet_tagme_sememe_dict[title] = definition"
   ]
  },
  {
   "cell_type": "code",
   "execution_count": 48,
   "id": "8fe94061",
   "metadata": {},
   "outputs": [],
   "source": [
    "np.save(\"wordnet_tagme_sememe_dict\", wordnet_tagme_sememe_dict)"
   ]
  },
  {
   "cell_type": "code",
   "execution_count": 45,
   "id": "143a3027",
   "metadata": {},
   "outputs": [
    {
     "data": {
      "text/plain": [
       "227733"
      ]
     },
     "execution_count": 45,
     "metadata": {},
     "output_type": "execute_result"
    }
   ],
   "source": [
    "len(wordnet_tagme_sememe_dict)"
   ]
  },
  {
   "cell_type": "code",
   "execution_count": null,
   "id": "c3308d9b",
   "metadata": {},
   "outputs": [],
   "source": []
  }
 ],
 "metadata": {
  "kernelspec": {
   "display_name": "Python 3 (ipykernel)",
   "language": "python",
   "name": "python3"
  },
  "language_info": {
   "codemirror_mode": {
    "name": "ipython",
    "version": 3
   },
   "file_extension": ".py",
   "mimetype": "text/x-python",
   "name": "python",
   "nbconvert_exporter": "python",
   "pygments_lexer": "ipython3",
   "version": "3.8.5"
  }
 },
 "nbformat": 4,
 "nbformat_minor": 5
}
