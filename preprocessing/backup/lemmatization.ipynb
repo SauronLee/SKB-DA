{
 "cells": [
  {
   "cell_type": "code",
   "execution_count": 1,
   "id": "58ce642b",
   "metadata": {},
   "outputs": [
    {
     "name": "stderr",
     "output_type": "stream",
     "text": [
      "[nltk_data] Downloading package wordnet to\n",
      "[nltk_data]     /home/adaptsystemlab2019/nltk_data...\n",
      "[nltk_data]   Package wordnet is already up-to-date!\n",
      "[nltk_data] Downloading package punkt to\n",
      "[nltk_data]     /home/adaptsystemlab2019/nltk_data...\n",
      "[nltk_data]   Package punkt is already up-to-date!\n",
      "[nltk_data] Downloading package averaged_perceptron_tagger to\n",
      "[nltk_data]     /home/adaptsystemlab2019/nltk_data...\n",
      "[nltk_data]   Package averaged_perceptron_tagger is already up-to-\n",
      "[nltk_data]       date!\n"
     ]
    },
    {
     "data": {
      "text/plain": [
       "True"
      ]
     },
     "execution_count": 1,
     "metadata": {},
     "output_type": "execute_result"
    }
   ],
   "source": [
    "from math import log\n",
    "import tqdm\n",
    "import json\n",
    "import numpy as np\n",
    "import spacy\n",
    "from nltk.stem import WordNetLemmatizer\n",
    "import nltk\n",
    "from nltk import word_tokenize, pos_tag\n",
    "from nltk.corpus import wordnet\n",
    "from nltk.stem import WordNetLemmatizer\n",
    "\n",
    "nltk.download('wordnet')\n",
    "nltk.download('punkt')\n",
    "nltk.download('averaged_perceptron_tagger')"
   ]
  },
  {
   "cell_type": "code",
   "execution_count": 2,
   "id": "9fcbbabb",
   "metadata": {},
   "outputs": [],
   "source": [
    "title_content_dic: dict = np.load(\"../data/sememe_entity_sence.npy\", allow_pickle=True).tolist()"
   ]
  },
  {
   "cell_type": "code",
   "execution_count": 3,
   "id": "ed2527f3",
   "metadata": {},
   "outputs": [
    {
     "ename": "TypeError",
     "evalue": "list indices must be integers or slices, not str",
     "output_type": "error",
     "traceback": [
      "\u001b[0;31m---------------------------------------------------------------------------\u001b[0m",
      "\u001b[0;31mTypeError\u001b[0m                                 Traceback (most recent call last)",
      "\u001b[0;32m/tmp/ipykernel_27225/1821987292.py\u001b[0m in \u001b[0;36m<module>\u001b[0;34m\u001b[0m\n\u001b[0;32m----> 1\u001b[0;31m \u001b[0mtitle_content_dic\u001b[0m\u001b[0;34m[\u001b[0m\u001b[0;34m'beautiful'\u001b[0m\u001b[0;34m]\u001b[0m\u001b[0;34m\u001b[0m\u001b[0;34m\u001b[0m\u001b[0m\n\u001b[0m",
      "\u001b[0;31mTypeError\u001b[0m: list indices must be integers or slices, not str"
     ]
    }
   ],
   "source": [
    "title_content_dic['beautiful']"
   ]
  },
  {
   "cell_type": "code",
   "execution_count": 4,
   "id": "2d6e3673",
   "metadata": {},
   "outputs": [
    {
     "data": {
      "text/plain": [
       "'beauty commonly feature objects objects pleasurable perceive objects include landscapes sunsets humans works art beauty art taste main subject aesthetics major branches philosophy positive aesthetic contrasted ugliness negative counterpart truth goodness transcendentals considered fundamental concepts human understanding'"
      ]
     },
     "execution_count": 4,
     "metadata": {},
     "output_type": "execute_result"
    }
   ],
   "source": [
    "title_content_dic['beauty']"
   ]
  },
  {
   "cell_type": "markdown",
   "id": "48bee73d",
   "metadata": {},
   "source": [
    "tree_map = {}\n",
    "for sentence in tqdm.tqdm(title_content_dic.values()):\n",
    "    for title in title_content_dic.keys():\n",
    "        if title in sentence:\n",
    "            print(title)\n",
    "            if title not in tree_map.keys():\n",
    "                tree_map[title] = []\n",
    "            else:\n",
    "                tree_map[title].append(sentence)\n",
    "            "
   ]
  },
  {
   "cell_type": "markdown",
   "id": "59d2f13a",
   "metadata": {},
   "source": [
    "### lemmatization"
   ]
  },
  {
   "cell_type": "markdown",
   "id": "16577403",
   "metadata": {},
   "source": [
    "plus the pos for no-pos"
   ]
  },
  {
   "cell_type": "code",
   "execution_count": 22,
   "id": "1d94880a",
   "metadata": {},
   "outputs": [],
   "source": [
    "def get_wordnet_pos(tag):\n",
    "    if tag.startswith('J'):\n",
    "        return wordnet.ADJ\n",
    "    elif tag.startswith('V'):\n",
    "        return wordnet.VERB\n",
    "    elif tag.startswith('N'):\n",
    "        return wordnet.NOUN\n",
    "    elif tag.startswith('R'):\n",
    "        return wordnet.ADV\n",
    "    else:\n",
    "        return None\n",
    "    \n",
    "def lemmatization(sentence, title):\n",
    "    tokens = word_tokenize(sentence)\n",
    "    tagged_sent = pos_tag(tokens)\n",
    "    title_p = \"NN\"\n",
    "    for w, p in tagged_sent:\n",
    "        if w == title:\n",
    "            title_p = p\n",
    "    wnl = WordNetLemmatizer()\n",
    "    lemmas_sent = []\n",
    "    for tag in tagged_sent:\n",
    "        wordnet_pos = get_wordnet_pos(tag[1]) or wordnet.NOUN\n",
    "        lemmas_sent.append(wnl.lemmatize(tag[0], pos = wordnet_pos))\n",
    "    return lemmas_sent, title_p"
   ]
  },
  {
   "cell_type": "code",
   "execution_count": 23,
   "id": "5f331ec0",
   "metadata": {},
   "outputs": [],
   "source": [
    "a = 'beautiful adjective possessing beauty'"
   ]
  },
  {
   "cell_type": "code",
   "execution_count": 25,
   "id": "c8eb511c",
   "metadata": {},
   "outputs": [
    {
     "data": {
      "text/plain": [
       "(['beautiful', 'adjective', 'possessing', 'beauty'], 'NN')"
      ]
     },
     "execution_count": 25,
     "metadata": {},
     "output_type": "execute_result"
    }
   ],
   "source": [
    "lemmatization(a ,'possessing')"
   ]
  },
  {
   "cell_type": "code",
   "execution_count": 26,
   "id": "4f62e742",
   "metadata": {},
   "outputs": [
    {
     "name": "stderr",
     "output_type": "stream",
     "text": [
      "100%|█████████████████████████████████| 960853/960853 [12:14<00:00, 1308.52it/s]\n"
     ]
    }
   ],
   "source": [
    "title_content_lemmatization = {}\n",
    "for word, doc in tqdm.tqdm(title_content_dic.items()):\n",
    "    word_e = word.strip().split()[0]\n",
    "    doc, word_p = lemmatization(doc, word_e)\n",
    "    title_content_lemmatization[word+\">>>\"+word_p] = doc"
   ]
  },
  {
   "cell_type": "code",
   "execution_count": 27,
   "id": "49d90f11",
   "metadata": {},
   "outputs": [],
   "source": [
    "np.save(\"../data/title_content_lemmatization_sence\", title_content_lemmatization)"
   ]
  },
  {
   "cell_type": "code",
   "execution_count": null,
   "id": "9df07db1",
   "metadata": {},
   "outputs": [],
   "source": [
    "title_content_lemmatization"
   ]
  },
  {
   "cell_type": "markdown",
   "id": "6d68f1c7",
   "metadata": {},
   "source": [
    "## wordnet"
   ]
  },
  {
   "cell_type": "code",
   "execution_count": 2,
   "id": "3643b89f",
   "metadata": {},
   "outputs": [],
   "source": [
    "wordnet_tagme_sememe_dict: dict = np.load(\"./wordnet_tagme_sememe_dict.npy\", allow_pickle=True).tolist()"
   ]
  },
  {
   "cell_type": "code",
   "execution_count": 3,
   "id": "753a64cb",
   "metadata": {},
   "outputs": [],
   "source": [
    "def get_wordnet_pos(tag):\n",
    "    if tag.startswith('J'):\n",
    "        return wordnet.ADJ\n",
    "    elif tag.startswith('V'):\n",
    "        return wordnet.VERB\n",
    "    elif tag.startswith('N'):\n",
    "        return wordnet.NOUN\n",
    "    elif tag.startswith('R'):\n",
    "        return wordnet.ADV\n",
    "    else:\n",
    "        return None\n",
    "    \n",
    "def lemmatization(sentence):\n",
    "    tokens = word_tokenize(sentence)\n",
    "    tagged_sent = pos_tag(tokens)\n",
    "    wnl = WordNetLemmatizer()\n",
    "    lemmas_sent = []\n",
    "    for tag in tagged_sent:\n",
    "        wordnet_pos = get_wordnet_pos(tag[1]) or wordnet.NOUN\n",
    "        lemmas_sent.append(wnl.lemmatize(tag[0], pos = wordnet_pos))\n",
    "    return lemmas_sent"
   ]
  },
  {
   "cell_type": "code",
   "execution_count": null,
   "id": "5025420e",
   "metadata": {},
   "outputs": [
    {
     "name": "stderr",
     "output_type": "stream",
     "text": [
      " 69%|██████████████████████▋          | 156912/227733 [01:02<00:27, 2547.30it/s]"
     ]
    }
   ],
   "source": [
    "title_content_lemmatization = {}\n",
    "for word, doc in tqdm.tqdm(wordnet_tagme_sememe_dict.items()):\n",
    "    doc = lemmatization(doc)\n",
    "    title_content_lemmatization[word] = doc"
   ]
  },
  {
   "cell_type": "code",
   "execution_count": null,
   "id": "bb924c0d",
   "metadata": {},
   "outputs": [],
   "source": [
    "np.save(\"../data/wordnet_lemmatization_sence\", title_content_lemmatization)"
   ]
  }
 ],
 "metadata": {
  "kernelspec": {
   "display_name": "Python 3 (ipykernel)",
   "language": "python",
   "name": "python3"
  },
  "language_info": {
   "codemirror_mode": {
    "name": "ipython",
    "version": 3
   },
   "file_extension": ".py",
   "mimetype": "text/x-python",
   "name": "python",
   "nbconvert_exporter": "python",
   "pygments_lexer": "ipython3",
   "version": "3.8.5"
  }
 },
 "nbformat": 4,
 "nbformat_minor": 5
}
