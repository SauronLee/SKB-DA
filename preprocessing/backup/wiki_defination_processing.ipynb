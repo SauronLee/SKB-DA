{
 "cells": [
  {
   "cell_type": "code",
   "execution_count": 1,
   "id": "03912a37",
   "metadata": {},
   "outputs": [
    {
     "name": "stderr",
     "output_type": "stream",
     "text": [
      "[nltk_data] Downloading package punkt to\n",
      "[nltk_data]     /home/adaptsystemlab2019/nltk_data...\n",
      "[nltk_data]   Package punkt is already up-to-date!\n"
     ]
    },
    {
     "data": {
      "text/plain": [
       "True"
      ]
     },
     "execution_count": 1,
     "metadata": {},
     "output_type": "execute_result"
    }
   ],
   "source": [
    "from langdetect import detect\n",
    "import numpy as np\n",
    "import re\n",
    "import glob\n",
    "import os\n",
    "import tqdm\n",
    "import nltk\n",
    "nltk.download('punkt') # one time execution"
   ]
  },
  {
   "cell_type": "code",
   "execution_count": 2,
   "id": "b91876f0",
   "metadata": {},
   "outputs": [],
   "source": [
    "def _getTextFile(langual):\n",
    "    file_list = glob.glob(f'../data/stopwords/stopwords/*_{langual}.txt')\n",
    "    files = \",\".join(file_list)\n",
    "    return files\n",
    "\n",
    "def cleanText(english_txt):\n",
    "    try:\n",
    "        word_tokens = english_txt.split()\n",
    "        filtered_word = [w for w in word_tokens if w not in stop_words and not w.isdigit()]\n",
    "        filtered_word = [w + \" \" for w in filtered_word]\n",
    "        return \"\".join(filtered_word)\n",
    "    except:\n",
    "        return np.nan\n",
    "\n",
    "def detectLang(txt):\n",
    "    try:\n",
    "        return detect(txt)\n",
    "    except:\n",
    "        return np.nan\n",
    "\n",
    "def cleanNonEnglish(txt):\n",
    "    txt = re.sub(r'\\W+', ' ', txt)\n",
    "    txt = txt.lower()\n",
    "    txt = txt.replace(\"[^a-zA-Z]\", \" \")\n",
    "    word_tokens = txt.split()\n",
    "    filtered_word = [w for w in word_tokens if all(ord(c) < 128 for c in w)]\n",
    "    filtered_word = [w + \" \" for w in filtered_word]\n",
    "    return \"\".join(filtered_word)\n",
    "\n",
    "def countMinMaxAver(lines):\n",
    "    min_len = 10000\n",
    "    aver_len = 0\n",
    "    max_len = 0\n",
    "    for temp in lines:\n",
    "        aver_len = aver_len + len(temp)\n",
    "        if len(temp) < min_len:\n",
    "            min_len = len(temp)\n",
    "        if len(temp) > max_len:\n",
    "            max_len = len(temp)\n",
    "    aver_len = 1.0 * aver_len / len(lines)\n",
    "    print('min_len : ' + str(min_len))\n",
    "    print('max_len : ' + str(max_len))\n",
    "    print('average_len : ' + str(aver_len))\n",
    "    \n",
    "def titleProcessing(title):\n",
    "    #title = re.findall(r\"title=\\\"(.*)\\\">\", title)\n",
    "    #title = title[0].replace(\" \", \"_\")\n",
    "    return re.findall(r\"title=\\\"(.*)\\\">\", title)\n",
    "\n",
    "def contentProcessing(content, title_list_i):\n",
    "    if content[0].strip() == title_list_i[0]:\n",
    "        return title_list_i, content[1].strip()"
   ]
  },
  {
   "cell_type": "code",
   "execution_count": 3,
   "id": "626ff734",
   "metadata": {},
   "outputs": [],
   "source": [
    "stop_words=set()\n",
    "for file in _getTextFile(\"en\").split(\",\"):\n",
    "    for word in open(file):\n",
    "        stop_words.add(word.strip())"
   ]
  },
  {
   "cell_type": "code",
   "execution_count": null,
   "id": "865bd741",
   "metadata": {},
   "outputs": [],
   "source": []
  },
  {
   "cell_type": "code",
   "execution_count": 4,
   "id": "3b94fe30",
   "metadata": {},
   "outputs": [
    {
     "name": "stdout",
     "output_type": "stream",
     "text": [
      "min_len : 2\n",
      "max_len : 5876\n",
      "average_len : 8.55975541655267\n"
     ]
    }
   ],
   "source": [
    "index_content_dic = {}\n",
    "title_list = []\n",
    "count = -1\n",
    "for line in open('../data/wiki.txt'):\n",
    "    if re.match('<doc id.*>', line):\n",
    "        title_list.append(titleProcessing(line))\n",
    "        count+=1\n",
    "        index_content_dic[count] = []\n",
    "        continue\n",
    "    index_content_dic_value = index_content_dic[count]\n",
    "    index_content_dic_value.append(line)\n",
    "    index_content_dic[count] = index_content_dic_value\n",
    "    \n",
    "countMinMaxAver(index_content_dic.values())"
   ]
  },
  {
   "cell_type": "code",
   "execution_count": 11,
   "id": "ab904dc8",
   "metadata": {},
   "outputs": [
    {
     "data": {
      "text/plain": [
       "12807408"
      ]
     },
     "execution_count": 11,
     "metadata": {},
     "output_type": "execute_result"
    }
   ],
   "source": [
    "len(sentences_all_text)"
   ]
  },
  {
   "cell_type": "code",
   "execution_count": 119,
   "id": "d8f99e28",
   "metadata": {},
   "outputs": [
    {
     "data": {
      "text/plain": [
       "6403704"
      ]
     },
     "execution_count": 119,
     "metadata": {},
     "output_type": "execute_result"
    }
   ],
   "source": [
    "len(index_content_dic)"
   ]
  },
  {
   "cell_type": "code",
   "execution_count": 120,
   "id": "0eebf076",
   "metadata": {},
   "outputs": [
    {
     "data": {
      "text/plain": [
       "6403704"
      ]
     },
     "execution_count": 120,
     "metadata": {},
     "output_type": "execute_result"
    }
   ],
   "source": [
    "len(title_list)"
   ]
  },
  {
   "cell_type": "code",
   "execution_count": 121,
   "id": "9876ec2f",
   "metadata": {},
   "outputs": [],
   "source": [
    "key_word = [\"film\",\"novel\",\"album\",\"song\",\"band\",\"name\",\"ep\",\"game\",\"surname\",\"tv series\"]"
   ]
  },
  {
   "cell_type": "code",
   "execution_count": 122,
   "id": "9585994a",
   "metadata": {},
   "outputs": [
    {
     "name": "stderr",
     "output_type": "stream",
     "text": [
      "100%|█████████████████████████████| 6403704/6403704 [00:39<00:00, 162891.28it/s]\n"
     ]
    }
   ],
   "source": [
    "title_content_dic = {}\n",
    "for i, content in tqdm.tqdm(index_content_dic.items()):\n",
    "    title = title_list[i][0].strip().split()\n",
    "    if len(title) == 1 or str(title[1])[0] == \"(\" and str(title[-1])[-1] == \")\":\n",
    "        if str(title[-1])[:-1].replace(\"(\",\"\") in key_word:\n",
    "            continue\n",
    "        title, content = contentProcessing(content, title_list[i])\n",
    "        content = cleanNonEnglish(content).strip()\n",
    "        content = cleanText(content).strip()\n",
    "        if len(content) == 0 or title[0].strip()[0] == \"(\":\n",
    "            continue\n",
    "        title_content_dic[title[0]] = content"
   ]
  },
  {
   "cell_type": "code",
   "execution_count": 123,
   "id": "eb7722f0",
   "metadata": {},
   "outputs": [
    {
     "data": {
      "text/plain": [
       "960853"
      ]
     },
     "execution_count": 123,
     "metadata": {},
     "output_type": "execute_result"
    }
   ],
   "source": [
    "len(title_content_dic)"
   ]
  },
  {
   "cell_type": "code",
   "execution_count": 124,
   "id": "8bc2b93d",
   "metadata": {},
   "outputs": [
    {
     "name": "stdout",
     "output_type": "stream",
     "text": [
      "apple :---: apple edible fruit produced apple tree malus domestica apple trees cultivated worldwide grown species genus malus tree originated central asia wild ancestor malus sieversii today apples grown thousands years asia europe brought north america european colonists apples religious mythological significance cultures including norse greek european christian tradition\n",
      "----------------------------\n",
      "apple (symbolism) :---: apples religious traditions mystical forbidden fruit problems identifying apples religion mythology folktales late 17th century word apple generic term foreign fruit berries including nuts term extended plant galls thought plant origin oak apple instance tomatoes introduced europe called love apples english work cucumbers called lit earth apples french dutch hebrew afrikaans persian swiss german german dialects potatoes earth apples languages oranges called golden apples chinese apples datura called thorn apple\n",
      "----------------------------\n",
      "apple (artwork) :---: apple conceptual artwork japanese artist yoko ono\n",
      "----------------------------\n",
      "apple (disambiguation) :---: apple edible fruit\n",
      "----------------------------\n",
      "apple (automobile) :---: apple short lived american automobile manufactured apple automobile company dayton ohio apple model cost horsepower\n",
      "----------------------------\n"
     ]
    }
   ],
   "source": [
    "for k,v in title_content_dic.items():\n",
    "    if \"apple\" == k.strip().split()[0]:\n",
    "        print(k,\":---:\",v)\n",
    "        print(\"----------------------------\")"
   ]
  },
  {
   "cell_type": "code",
   "execution_count": 125,
   "id": "1fb58845",
   "metadata": {},
   "outputs": [],
   "source": [
    "title_keyword_dict = {}\n",
    "for k in title_content_dic.keys():\n",
    "    k = k.strip().split()\n",
    "    k_title = \" \".join(k[1:])\n",
    "    if k_title not in title_keyword_dict.keys():\n",
    "        title_keyword_dict[k_title] = 0\n",
    "        title_keyword_dict[k_title]+=1\n",
    "    else:\n",
    "        #title_keyword_dict[k_title].append(k[0])\n",
    "        title_keyword_dict[k_title]+=1"
   ]
  },
  {
   "cell_type": "code",
   "execution_count": 126,
   "id": "9c250fb8",
   "metadata": {},
   "outputs": [],
   "source": [
    "title_keyword_dict_sorted = sorted(title_keyword_dict.items(), key = lambda kv:(kv[1], kv[0]))"
   ]
  },
  {
   "cell_type": "code",
   "execution_count": 127,
   "id": "34299e0b",
   "metadata": {},
   "outputs": [
    {
     "data": {
      "text/plain": [
       "[('(martian crater)', 139),\n",
       " ('(roller coaster)', 139),\n",
       " ('(linguistics)', 140),\n",
       " ('(dance)', 144),\n",
       " ('(architecture)', 145),\n",
       " ('(geology)', 146),\n",
       " ('(website)', 148),\n",
       " ('(season 2)', 150),\n",
       " ('(missile)', 152),\n",
       " ('(season 1)', 152),\n",
       " ('(miniseries)', 153),\n",
       " ('(american tv series)', 155),\n",
       " ('(constituency)', 155),\n",
       " ('(moon)', 156),\n",
       " ('(lunar crater)', 157),\n",
       " ('(artist)', 160),\n",
       " ('(instrument)', 161),\n",
       " ('(fungus)', 163),\n",
       " ('(law)', 167),\n",
       " ('(nickname)', 170),\n",
       " ('(region)', 170),\n",
       " ('(michigan highway)', 171),\n",
       " ('(paris métro)', 171),\n",
       " ('(tribe)', 171),\n",
       " ('(city)', 172),\n",
       " ('(federal constituency)', 172),\n",
       " ('(dog)', 173),\n",
       " ('(computing)', 175),\n",
       " ('(rajasthan assembly constituency)', 176),\n",
       " ('(typeface)', 177),\n",
       " ('(department)', 179),\n",
       " ('(woreda)', 179),\n",
       " ('(yacht)', 182),\n",
       " ('(island)', 185),\n",
       " ('(poem)', 185),\n",
       " ('(dc comics)', 192),\n",
       " ('(satellite)', 194),\n",
       " ('(new zealand electorate)', 198),\n",
       " ('(unit)', 198),\n",
       " ('(brand)', 200),\n",
       " ('(food)', 203),\n",
       " ('(mathematics)', 206),\n",
       " ('(fish)', 207),\n",
       " ('(marvel comics)', 208),\n",
       " ('(butterfly)', 209),\n",
       " ('(sculpture)', 217),\n",
       " ('(fly)', 219),\n",
       " ('(community development block)', 229),\n",
       " ('(tv channel)', 240),\n",
       " ('(spider)', 253),\n",
       " ('(short story)', 258),\n",
       " ('(wrestler)', 260),\n",
       " ('(genus)', 261),\n",
       " ('(group)', 262),\n",
       " ('(inhabited locality)', 264),\n",
       " ('(town)', 265),\n",
       " ('(train)', 265),\n",
       " ('(actor)', 273),\n",
       " ('(municipality)', 273),\n",
       " ('(musical)', 273),\n",
       " ('(actress)', 279),\n",
       " ('(mountain)', 280),\n",
       " ('(ward)', 283),\n",
       " ('(restaurant)', 295),\n",
       " ('(programming language)', 298),\n",
       " ('(manga)', 304),\n",
       " ('(south africa)', 324),\n",
       " ('(state constituency)', 334),\n",
       " ('(number)', 337),\n",
       " ('(music)', 349),\n",
       " ('(soundtrack)', 350),\n",
       " ('(provincial electoral district)', 354),\n",
       " ('(character)', 355),\n",
       " ('(district)', 360),\n",
       " ('(rural locality)', 364),\n",
       " ('(gastropod)', 378),\n",
       " ('(opera)', 379),\n",
       " ('(gene)', 388),\n",
       " ('(state assembly constituency)', 398),\n",
       " ('(automobile)', 405),\n",
       " ('(newspaper)', 419),\n",
       " ('(beetle)', 432),\n",
       " ('(book)', 469),\n",
       " ('(village)', 495),\n",
       " ('(lok sabha constituency)', 575),\n",
       " ('(ship)', 616),\n",
       " ('(rapper)', 622),\n",
       " ('(assembly constituency)', 628),\n",
       " ('(footballer)', 648),\n",
       " ('(electoral district)', 669),\n",
       " ('(fm)', 678),\n",
       " ('(journal)', 720),\n",
       " ('(uk parliament constituency)', 726),\n",
       " ('(moth)', 727),\n",
       " ('(play)', 766),\n",
       " ('(plant)', 783),\n",
       " ('(musician)', 800),\n",
       " ('(mythology)', 942),\n",
       " ('(software)', 996),\n",
       " ('(singer)', 1127),\n",
       " ('(comics)', 1326),\n",
       " ('(company)', 1561),\n",
       " ('(am)', 1628),\n",
       " ('(horse)', 1640),\n",
       " ('(magazine)', 1683),\n",
       " ('(vidhan sabha constituency)', 1935),\n",
       " ('(crater)', 1990),\n",
       " ('(river)', 2061),\n",
       " ('(tv series)', 3336),\n",
       " ('(disambiguation)', 29520),\n",
       " ('', 805480)]"
      ]
     },
     "execution_count": 127,
     "metadata": {},
     "output_type": "execute_result"
    }
   ],
   "source": [
    "title_keyword_dict_sorted[-111:]"
   ]
  },
  {
   "cell_type": "code",
   "execution_count": 100,
   "id": "63a271ed",
   "metadata": {},
   "outputs": [],
   "source": [
    "for k, v in title_content_dic.items():\n",
    "    v_list = []\n",
    "    for v_i in v.split():\n",
    "        if v_i == k:\n",
    "            continue\n",
    "        else:\n",
    "            v_list.append(v_i)\n",
    "    title_content_dic[k] = \" \".join(v_list)"
   ]
  },
  {
   "cell_type": "code",
   "execution_count": 101,
   "id": "b37f8583",
   "metadata": {},
   "outputs": [
    {
     "data": {
      "text/plain": [
       "[('cache', 'caching refer'),\n",
       " ('culturgen',\n",
       "  'culture gen term denote theoretical unit culture cultural evolution analogous gene cultural artifact element behaviour repetition reproduction transmissible generation displaced term meme'),\n",
       " ('manulife',\n",
       "  'financial corporation manuvie quebec canadian multinational insurance company financial services provider headquartered toronto ontario company operates canada asia united john hancock financial division december company employed people agents contract billion assets management administration point serviced customers worldwide'),\n",
       " ('perfection', 'variously completeness flawlessness supreme excellence'),\n",
       " ('deconfinement',\n",
       "  'physics contrast confinement phase matter particles allowed exist free excitations bound'),\n",
       " ('mif', 'refer'),\n",
       " ('horvitz',\n",
       "  'variants ashkenazi jewish surname historical background horowitz jewish surname'),\n",
       " ('horovitz',\n",
       "  'variants surname originating jewish community bohemia bearers surname migrated middle ages small town bohemia today czech republic detailed historical background horowitz'),\n",
       " ('st6', 'refer'),\n",
       " ('cargolifter',\n",
       "  'ag german company founded offer logistical services point point transport heavy outsized loads service based development heavy lift airship cl160 vessel designed carry payload airship built company bankrupt july today shareholder founded cl gmbh company seeks continue selling lighter air technology russia aerosmena developing huge airships lift tons freight hovering ground sea'),\n",
       " ('empfingen', 'municipality district freudenstadt baden southern germany'),\n",
       " ('pupillage',\n",
       "  'england wales northern ireland kenya malaysia pakistan hong kong final vocational stage training wishing practising barristers apprenticeship bar graduates build learnt bptc equivalent combining practical work experience set barristers chambers training organisation'),\n",
       " ('sk8er', 'word sk8ter sk8r s8r slang spelling skater refer'),\n",
       " ('qsound',\n",
       "  'original positional dimensional 3d sound processing algorithm labs creates 3d audio effects multiple monophonic sources sums outputs channels presentation regular stereo speakers eventually dubbed q1 introduction q2 positional 3d algorithm headphones multi speaker surround support positional 3d process positional 3d audio process simply q3d founded larry ryckman ceo danny lowe john lees jimmy iovine served svp music shelly yakus vp audio engineering formative years'),\n",
       " ('derivatization',\n",
       "  'technique chemistry converts chemical compound product reaction derivate chemical structure called derivative'),\n",
       " ('jumilla',\n",
       "  'town municipality southeastern spain located north east region murcia close towns cieza yecla census town population'),\n",
       " (\"ta'anit\",\n",
       "  'ta anit taanis ashkenaz pronunciation classical hebrew fast judaism abstains food drink including water'),\n",
       " ('bäckängsgymnasiet',\n",
       "  'gymnasium sweden offers university preparatory programs natural social sciences art humanities school founded translated higher education institute'),\n",
       " ('moontower', 'solo studio album swedish musician dan'),\n",
       " ('perutz', 'surname notable people surname include')]"
      ]
     },
     "execution_count": 101,
     "metadata": {},
     "output_type": "execute_result"
    }
   ],
   "source": [
    "list(title_content_dic.items())[:20]"
   ]
  },
  {
   "cell_type": "code",
   "execution_count": 128,
   "id": "83cef432",
   "metadata": {},
   "outputs": [
    {
     "data": {
      "text/plain": [
       "960853"
      ]
     },
     "execution_count": 128,
     "metadata": {},
     "output_type": "execute_result"
    }
   ],
   "source": [
    "len(title_content_dic)"
   ]
  },
  {
   "cell_type": "code",
   "execution_count": 129,
   "id": "5a51dfc6",
   "metadata": {},
   "outputs": [],
   "source": [
    "np.save(\"../data/title_content_dic_sence\", title_content_dic)"
   ]
  },
  {
   "cell_type": "code",
   "execution_count": 104,
   "id": "52835480",
   "metadata": {},
   "outputs": [
    {
     "data": {
      "text/plain": [
       "False"
      ]
     },
     "execution_count": 104,
     "metadata": {},
     "output_type": "execute_result"
    }
   ],
   "source": [
    "\"soap opera\" in title_content_dic[\"soap\"]"
   ]
  },
  {
   "cell_type": "code",
   "execution_count": 105,
   "id": "b6b2a0c1",
   "metadata": {},
   "outputs": [
    {
     "data": {
      "text/plain": [
       "'form theatre music fundamental component dramatic roles singers distinct musical theatre work literal translation italian word typically collaboration composer librettist incorporates number performing arts acting scenery costume dance ballet performance typically house accompanied orchestra smaller musical ensemble early 19th century led conductor'"
      ]
     },
     "execution_count": 105,
     "metadata": {},
     "output_type": "execute_result"
    }
   ],
   "source": [
    "title_content_dic[\"opera\"]"
   ]
  },
  {
   "cell_type": "code",
   "execution_count": 106,
   "id": "52d712f7",
   "metadata": {},
   "outputs": [
    {
     "data": {
      "text/plain": [
       "'edible fruit produced tree malus domestica trees cultivated worldwide grown species genus malus tree originated central asia wild ancestor malus sieversii today apples grown thousands years asia europe brought north america european colonists apples religious mythological significance cultures including norse greek european christian tradition'"
      ]
     },
     "execution_count": 106,
     "metadata": {},
     "output_type": "execute_result"
    }
   ],
   "source": [
    "title_content_dic[\"apple\"]"
   ]
  },
  {
   "cell_type": "code",
   "execution_count": null,
   "id": "b5327a7f",
   "metadata": {},
   "outputs": [],
   "source": []
  }
 ],
 "metadata": {
  "kernelspec": {
   "display_name": "wiki_corpus",
   "language": "python",
   "name": "wiki_corpus"
  },
  "language_info": {
   "codemirror_mode": {
    "name": "ipython",
    "version": 3
   },
   "file_extension": ".py",
   "mimetype": "text/x-python",
   "name": "python",
   "nbconvert_exporter": "python",
   "pygments_lexer": "ipython3",
   "version": "3.7.8"
  }
 },
 "nbformat": 4,
 "nbformat_minor": 5
}
